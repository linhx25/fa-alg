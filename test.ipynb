{
 "cells": [
  {
   "cell_type": "code",
   "execution_count": 1,
   "metadata": {},
   "outputs": [
    {
     "name": "stdout",
     "output_type": "stream",
     "text": [
      "src/datasets\n"
     ]
    }
   ],
   "source": [
    "import src.datasets.tabular\n",
    "import src.datasets.utils\n",
    "from src.datasets.tabular import get_dataset_config\n",
    "\n",
    "dataset = 'german'\n",
    "dataset_kwargs = {'root_dir': 'src/datasets'}\n",
    "dataset_config = get_dataset_config(dataset, **dataset_kwargs)\n",
    "dset = src.datasets.utils.get_dataset(dataset_config)\n",
    "X_tr, y_tr, __, __, __, __ =  dset.get_data()\n",
    "\n",
    "\n",
    "src.datasets.utils.save_vw_dataset(X_tr, y_tr, dataset, 'src/datasets/german')\n"
   ]
  },
  {
   "cell_type": "code",
   "execution_count": 1,
   "metadata": {},
   "outputs": [
    {
     "name": "stderr",
     "output_type": "stream",
     "text": [
      "sh: vw: command not found\n"
     ]
    }
   ],
   "source": [
    "import subprocess, sys, os\n",
    "VW = 'vw'\n",
    "ds = 'src/datasets/german/german_2.vw.gz'\n",
    "cmd = [VW, ds, '-b', '24']\n",
    "cmd += ['--oaa', '2']\n",
    "\n",
    "#output = subprocess.check_output(cmd, stderr=subprocess.STDOUT)\n",
    "output = os.system('vw ' + ds + ' -b 24 --oaa 2') "
   ]
  },
  {
   "cell_type": "code",
   "execution_count": 2,
   "metadata": {},
   "outputs": [
    {
     "name": "stdout",
     "output_type": "stream",
     "text": [
      "zsh:1: command not found: vw\n"
     ]
    }
   ],
   "source": [
    "!vw src/datasets/german/german_2.vw.gz -b 24 --oaa 2"
   ]
  },
  {
   "cell_type": "code",
   "execution_count": 3,
   "metadata": {},
   "outputs": [
    {
     "name": "stdout",
     "output_type": "stream",
     "text": [
      "zsh:1: command not found: vw\n"
     ]
    }
   ],
   "source": [
    "!vw"
   ]
  }
 ],
 "metadata": {
  "kernelspec": {
   "display_name": "Python 3.9.7 ('base')",
   "language": "python",
   "name": "python3"
  },
  "language_info": {
   "codemirror_mode": {
    "name": "ipython",
    "version": 3
   },
   "file_extension": ".py",
   "mimetype": "text/x-python",
   "name": "python",
   "nbconvert_exporter": "python",
   "pygments_lexer": "ipython3",
   "version": "3.9.7"
  },
  "orig_nbformat": 4,
  "vscode": {
   "interpreter": {
    "hash": "40d3a090f54c6569ab1632332b64b2c03c39dcf918b08424e98f38b5ae0af88f"
   }
  }
 },
 "nbformat": 4,
 "nbformat_minor": 2
}
