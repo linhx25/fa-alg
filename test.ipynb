{
 "cells": [
  {
   "cell_type": "code",
   "execution_count": null,
   "metadata": {},
   "outputs": [],
   "source": [
    "import src.datasets.tabular\n",
    "import src.datasets.utils\n",
    "from src.datasets.tabular import get_dataset_config\n",
    "\n",
    "## preprocessing for different datasets to vw format\n",
    "dataset = 'adult'\n",
    "dataset_kwargs = {'root_dir': 'src/datasets'}\n",
    "dataset_config = get_dataset_config(dataset, **dataset_kwargs)\n",
    "dset = src.datasets.utils.get_dataset(dataset_config)\n",
    "X_tr, y_tr, __, __, __, __ =  dset.get_data()\n",
    "\n",
    "print(sum(y_tr), len(y_tr))\n",
    "\n",
    "src.datasets.utils.save_vw_dataset(X_tr, y_tr, dataset, 'src/datasets/adult')\n"
   ]
  },
  {
   "cell_type": "code",
   "execution_count": null,
   "metadata": {},
   "outputs": [],
   "source": [
    "import subprocess, sys, os\n",
    "VW = 'vw'\n",
    "ds = 'src/datasets/adult/adult_2.vw.gz'\n",
    "cmd = [VW, ds, '-b', '24']\n",
    "# supervised\n",
    "# cmd += ['--oaa', '2']\n",
    "# contextual bandit\n",
    "## --progress 1 means we output all the time loss, otherwise it will only show the time point pow(2,k) \n",
    "## param details of different kinds of cb algs are in run_vw_job.py, i.e. the process function.\n",
    "cmd += ['--cbify', '2', '--bag', '4', '--progress', '1']\n",
    "output = subprocess.check_output(cmd, stderr=subprocess.STDOUT)\n",
    "#output = os.system('vw ' + ds + ' -b 24 --oaa 2') \n",
    "output = str(output, encoding = 'utf-8')\n",
    "from src.utils.joint_regret import output_extraction\n",
    "#the return of output_extraction function is the cummlative loss in terms of the time\n",
    "cum_loss = output_extraction(output)\n",
    "cum_loss\n"
   ]
  },
  {
   "cell_type": "code",
   "execution_count": null,
   "metadata": {},
   "outputs": [],
   "source": [
    "!vw src/datasets/adult/adult_2.vw.gz 24 --oaa 2"
   ]
  },
  {
   "cell_type": "code",
   "execution_count": null,
   "metadata": {},
   "outputs": [],
   "source": [
    "!vw src/datasets/german/german_2.vw.gz -b 24 --cbify 2 --regcbopt"
   ]
  },
  {
   "cell_type": "code",
   "execution_count": 1,
   "metadata": {},
   "outputs": [
    {
     "name": "stdout",
     "output_type": "stream",
     "text": [
      "3\n"
     ]
    },
    {
     "data": {
      "text/plain": [
       "array([0., 0., 0., ..., 0., 0., 0.])"
      ]
     },
     "execution_count": 1,
     "metadata": {},
     "output_type": "execute_result"
    }
   ],
   "source": [
    "## the falcon procedure, for the paper\n",
    "## https://arxiv.org/pdf/2003.12699.pdf\n",
    "from src.models.cb.FALCON import FALCON, FALCON_ldf, FALCON_price\n",
    "#from split_gz_csv import ds_files_csv, ds_files\n",
    "#from split import sample_custom_pmf\n",
    "import numpy as np\n",
    "import seaborn as sns\n",
    "import matplotlib.pyplot as plt\n",
    "import pandas as pd\n",
    "#from glob_param import *\n",
    "from src.run_vw_job import process\n",
    "#from split import *\n",
    "import re\n",
    "rgx = re.compile('^average loss = (.*)$', flags=re.M)\n",
    "#show the regret performance in each algorithm\n",
    "\n",
    "csv_path = 'src/datasets/adult/adult_2.csv'\n",
    "# def alg_performance_regret(DS_DIR, did, alg_param, did_type):\n",
    "loss_param = []\n",
    "    # if did_type == 'openml':\n",
    "    #     sample_falcon = FALCON(csv_path, 95, 1)\n",
    "    # elif did_type == 'ms':\n",
    "    #     sample_falcon = FALCON_ldf(csv_path, 105, 1, 10)\n",
    "    # elif did_type == 'yahoo':\n",
    "    #     sample_falcon = FALCON_ldf(csv_path, 105, 1, 6, 'ridge')\n",
    "    # elif did_type == 'loan':\n",
    "    #     if did == 0:\n",
    "    #         sample_falcon = FALCON_price(csv_path, 10, 1, 15)\n",
    "    #     elif did == 1:\n",
    "    #         sample_falcon = FALCON_price(csv_path, 10, 1, 10)\n",
    "#gamma_param is a hyperparam in FALCON alg.\n",
    "sample_falcon = FALCON(csvpath = csv_path, gamma_param = 95, feed_choice = 1,\n",
    "                        group = ['sex', 'race'])\n",
    "    \n",
    "sample_falcon.learn_schedule()\n",
    "\n",
    "#cummulative loss for FALCON alg.\n",
    "sample_falcon.loss_all\n",
    "        \n",
    "    # gz_path = ds_files(DS_DIR)[did]\n",
    "    # for index in range(len(alg_param)):\n",
    "    #     pv_loss, output = process(gz_path, alg_param[index], None, True, did_type)\n",
    "    #     loss_param.append(list(output_extraction(output)))\n",
    "    # return loss_param"
   ]
  },
  {
   "cell_type": "code",
   "execution_count": 2,
   "metadata": {},
   "outputs": [
    {
     "name": "stderr",
     "output_type": "stream",
     "text": [
      "/Users/wty6162/Desktop/fa-alg/src/eval_metric_cb.py:46: RuntimeWarning: invalid value encountered in double_scalars\n",
      "  avg_loss = [cumu_group_loss[i][k] / cumu_group_num[i][k] for k in range(self.group_num)]\n"
     ]
    },
    {
     "data": {
      "text/plain": [
       "{'cumu_loss': 5952.0,\n",
       " 'cumu_loss_0': 4342.0,\n",
       " 'cumu_loss_1': 491.0,\n",
       " 'cumu_loss_2': 174.0,\n",
       " 'cumu_loss_3': 945.0,\n",
       " 'loss_parity': 0.14472397670577375}"
      ]
     },
     "execution_count": 2,
     "metadata": {},
     "output_type": "execute_result"
    }
   ],
   "source": [
    "# an example to test whether the eval metric works well in FALCON\n",
    "from src.eval_metric_cb import offline_eval_metric_cb\n",
    "eval_falcon = offline_eval_metric_cb(group = sample_falcon.group, context = sample_falcon.context_all,\n",
    "                              action = sample_falcon.action_all, loss = sample_falcon.loss_all)\n",
    "eval_falcon.group_loss_parity()"
   ]
  },
  {
   "cell_type": "code",
   "execution_count": 3,
   "metadata": {},
   "outputs": [
    {
     "name": "stderr",
     "output_type": "stream",
     "text": [
      "/Users/wty6162/Desktop/fa-alg/src/eval_metric_cb.py:91: RuntimeWarning: invalid value encountered in double_scalars\n",
      "  group_action_parity[k] = np.sum([abs(avg_action_num[j]/(i + 1) - group_action_num[k][j]/sum(group_action_num[k]))\n"
     ]
    }
   ],
   "source": [
    "eval_falcon.group_action_parity()"
   ]
  },
  {
   "cell_type": "code",
   "execution_count": 4,
   "metadata": {},
   "outputs": [
    {
     "data": {
      "text/plain": [
       "{'cumu_loss': 5952.0,\n",
       " 'cumu_loss_0': 4342.0,\n",
       " 'cumu_loss_1': 491.0,\n",
       " 'cumu_loss_2': 174.0,\n",
       " 'cumu_loss_3': 945.0,\n",
       " 'loss_parity': 0.14472397670577375,\n",
       " 'group_action_parity_realized': 0.33976848079153216}"
      ]
     },
     "execution_count": 4,
     "metadata": {},
     "output_type": "execute_result"
    }
   ],
   "source": [
    "eval_falcon.summary_loss"
   ]
  },
  {
   "cell_type": "code",
   "execution_count": null,
   "metadata": {},
   "outputs": [],
   "source": [
    "output_all = output.split('\\n')\n",
    "res = []\n",
    "for i in range(len(output_all)):\n",
    "    if len(output_all[i].split(' ')) >= 50:\n",
    "        res.append(float(output_all[i].split(' ')[0]))\n",
    "        #print(len(output_all[i].split(' ')))\n",
    "    #print(len(output_all[i].split(' ')))\n",
    "len(res)"
   ]
  },
  {
   "cell_type": "code",
   "execution_count": null,
   "metadata": {},
   "outputs": [],
   "source": [
    "df = pd.read_csv('src/datasets/adult/adult_2.csv')\n",
    "b = list(np.array(df[['sex', 'race']]))"
   ]
  },
  {
   "cell_type": "code",
   "execution_count": null,
   "metadata": {},
   "outputs": [],
   "source": [
    "idx_num = 0\n",
    "set_idx = {}\n",
    "c = np.zeros(len(df))\n",
    "for i in range(len(df)):\n",
    "    str_key = str(b[i][0]) + ',' + str(b[i][1])\n",
    "    if str_key not in set_idx:\n",
    "        set_idx[str_key] = idx_num\n",
    "        idx_num += 1\n",
    "    c[i] = set_idx[str_key]\n",
    "\n",
    "c"
   ]
  }
 ],
 "metadata": {
  "kernelspec": {
   "display_name": "Python 3.9.7 ('base')",
   "language": "python",
   "name": "python3"
  },
  "language_info": {
   "codemirror_mode": {
    "name": "ipython",
    "version": 3
   },
   "file_extension": ".py",
   "mimetype": "text/x-python",
   "name": "python",
   "nbconvert_exporter": "python",
   "pygments_lexer": "ipython3",
   "version": "3.9.7"
  },
  "orig_nbformat": 4,
  "vscode": {
   "interpreter": {
    "hash": "40d3a090f54c6569ab1632332b64b2c03c39dcf918b08424e98f38b5ae0af88f"
   }
  }
 },
 "nbformat": 4,
 "nbformat_minor": 2
}
