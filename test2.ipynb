{
 "cells": [
  {
   "cell_type": "code",
   "execution_count": 1,
   "metadata": {},
   "outputs": [
    {
     "name": "stdout",
     "output_type": "stream",
     "text": [
      "{'gamma_param': [20, 40, 60, 80, 100, 120, 140, 160, 180, 200]}\n",
      "3\n",
      "3\n",
      "3\n",
      "3\n",
      "3\n",
      "3\n",
      "3\n",
      "3\n",
      "3\n",
      "3\n",
      "{'learning_rate': [0.001, 0.01, 0.1, 1, 10], 'cb_type': ['dr', 'ips', 'mtr'], 'bag': [2, 4, 8, 16]}\n",
      "['vw', 'src/datasets/communities-and-crime/communities-and-crime_2.vw.gz', '-b', '24', '--progress', '1', '--cbify', '2', '--learning_rate', '0.001', '--cb_type', 'dr', '--bag', '2']\n",
      "['vw', 'src/datasets/communities-and-crime/communities-and-crime_2.vw.gz', '-b', '24', '--progress', '1', '--cbify', '2', '--learning_rate', '0.001', '--cb_type', 'dr', '--bag', '4']\n",
      "['vw', 'src/datasets/communities-and-crime/communities-and-crime_2.vw.gz', '-b', '24', '--progress', '1', '--cbify', '2', '--learning_rate', '0.001', '--cb_type', 'dr', '--bag', '8']\n",
      "['vw', 'src/datasets/communities-and-crime/communities-and-crime_2.vw.gz', '-b', '24', '--progress', '1', '--cbify', '2', '--learning_rate', '0.001', '--cb_type', 'dr', '--bag', '16']\n",
      "['vw', 'src/datasets/communities-and-crime/communities-and-crime_2.vw.gz', '-b', '24', '--progress', '1', '--cbify', '2', '--learning_rate', '0.001', '--cb_type', 'ips', '--bag', '2']\n",
      "['vw', 'src/datasets/communities-and-crime/communities-and-crime_2.vw.gz', '-b', '24', '--progress', '1', '--cbify', '2', '--learning_rate', '0.001', '--cb_type', 'ips', '--bag', '4']\n",
      "['vw', 'src/datasets/communities-and-crime/communities-and-crime_2.vw.gz', '-b', '24', '--progress', '1', '--cbify', '2', '--learning_rate', '0.001', '--cb_type', 'ips', '--bag', '8']\n",
      "['vw', 'src/datasets/communities-and-crime/communities-and-crime_2.vw.gz', '-b', '24', '--progress', '1', '--cbify', '2', '--learning_rate', '0.001', '--cb_type', 'ips', '--bag', '16']\n",
      "['vw', 'src/datasets/communities-and-crime/communities-and-crime_2.vw.gz', '-b', '24', '--progress', '1', '--cbify', '2', '--learning_rate', '0.001', '--cb_type', 'mtr', '--bag', '2']\n",
      "['vw', 'src/datasets/communities-and-crime/communities-and-crime_2.vw.gz', '-b', '24', '--progress', '1', '--cbify', '2', '--learning_rate', '0.001', '--cb_type', 'mtr', '--bag', '4']\n",
      "['vw', 'src/datasets/communities-and-crime/communities-and-crime_2.vw.gz', '-b', '24', '--progress', '1', '--cbify', '2', '--learning_rate', '0.001', '--cb_type', 'mtr', '--bag', '8']\n",
      "['vw', 'src/datasets/communities-and-crime/communities-and-crime_2.vw.gz', '-b', '24', '--progress', '1', '--cbify', '2', '--learning_rate', '0.001', '--cb_type', 'mtr', '--bag', '16']\n",
      "['vw', 'src/datasets/communities-and-crime/communities-and-crime_2.vw.gz', '-b', '24', '--progress', '1', '--cbify', '2', '--learning_rate', '0.01', '--cb_type', 'dr', '--bag', '2']\n",
      "['vw', 'src/datasets/communities-and-crime/communities-and-crime_2.vw.gz', '-b', '24', '--progress', '1', '--cbify', '2', '--learning_rate', '0.01', '--cb_type', 'dr', '--bag', '4']\n",
      "['vw', 'src/datasets/communities-and-crime/communities-and-crime_2.vw.gz', '-b', '24', '--progress', '1', '--cbify', '2', '--learning_rate', '0.01', '--cb_type', 'dr', '--bag', '8']\n",
      "['vw', 'src/datasets/communities-and-crime/communities-and-crime_2.vw.gz', '-b', '24', '--progress', '1', '--cbify', '2', '--learning_rate', '0.01', '--cb_type', 'dr', '--bag', '16']\n",
      "['vw', 'src/datasets/communities-and-crime/communities-and-crime_2.vw.gz', '-b', '24', '--progress', '1', '--cbify', '2', '--learning_rate', '0.01', '--cb_type', 'ips', '--bag', '2']\n",
      "['vw', 'src/datasets/communities-and-crime/communities-and-crime_2.vw.gz', '-b', '24', '--progress', '1', '--cbify', '2', '--learning_rate', '0.01', '--cb_type', 'ips', '--bag', '4']\n",
      "['vw', 'src/datasets/communities-and-crime/communities-and-crime_2.vw.gz', '-b', '24', '--progress', '1', '--cbify', '2', '--learning_rate', '0.01', '--cb_type', 'ips', '--bag', '8']\n",
      "['vw', 'src/datasets/communities-and-crime/communities-and-crime_2.vw.gz', '-b', '24', '--progress', '1', '--cbify', '2', '--learning_rate', '0.01', '--cb_type', 'ips', '--bag', '16']\n",
      "['vw', 'src/datasets/communities-and-crime/communities-and-crime_2.vw.gz', '-b', '24', '--progress', '1', '--cbify', '2', '--learning_rate', '0.01', '--cb_type', 'mtr', '--bag', '2']\n",
      "['vw', 'src/datasets/communities-and-crime/communities-and-crime_2.vw.gz', '-b', '24', '--progress', '1', '--cbify', '2', '--learning_rate', '0.01', '--cb_type', 'mtr', '--bag', '4']\n",
      "['vw', 'src/datasets/communities-and-crime/communities-and-crime_2.vw.gz', '-b', '24', '--progress', '1', '--cbify', '2', '--learning_rate', '0.01', '--cb_type', 'mtr', '--bag', '8']\n",
      "['vw', 'src/datasets/communities-and-crime/communities-and-crime_2.vw.gz', '-b', '24', '--progress', '1', '--cbify', '2', '--learning_rate', '0.01', '--cb_type', 'mtr', '--bag', '16']\n",
      "['vw', 'src/datasets/communities-and-crime/communities-and-crime_2.vw.gz', '-b', '24', '--progress', '1', '--cbify', '2', '--learning_rate', '0.1', '--cb_type', 'dr', '--bag', '2']\n",
      "['vw', 'src/datasets/communities-and-crime/communities-and-crime_2.vw.gz', '-b', '24', '--progress', '1', '--cbify', '2', '--learning_rate', '0.1', '--cb_type', 'dr', '--bag', '4']\n",
      "['vw', 'src/datasets/communities-and-crime/communities-and-crime_2.vw.gz', '-b', '24', '--progress', '1', '--cbify', '2', '--learning_rate', '0.1', '--cb_type', 'dr', '--bag', '8']\n",
      "['vw', 'src/datasets/communities-and-crime/communities-and-crime_2.vw.gz', '-b', '24', '--progress', '1', '--cbify', '2', '--learning_rate', '0.1', '--cb_type', 'dr', '--bag', '16']\n",
      "['vw', 'src/datasets/communities-and-crime/communities-and-crime_2.vw.gz', '-b', '24', '--progress', '1', '--cbify', '2', '--learning_rate', '0.1', '--cb_type', 'ips', '--bag', '2']\n",
      "['vw', 'src/datasets/communities-and-crime/communities-and-crime_2.vw.gz', '-b', '24', '--progress', '1', '--cbify', '2', '--learning_rate', '0.1', '--cb_type', 'ips', '--bag', '4']\n",
      "['vw', 'src/datasets/communities-and-crime/communities-and-crime_2.vw.gz', '-b', '24', '--progress', '1', '--cbify', '2', '--learning_rate', '0.1', '--cb_type', 'ips', '--bag', '8']\n",
      "['vw', 'src/datasets/communities-and-crime/communities-and-crime_2.vw.gz', '-b', '24', '--progress', '1', '--cbify', '2', '--learning_rate', '0.1', '--cb_type', 'ips', '--bag', '16']\n",
      "['vw', 'src/datasets/communities-and-crime/communities-and-crime_2.vw.gz', '-b', '24', '--progress', '1', '--cbify', '2', '--learning_rate', '0.1', '--cb_type', 'mtr', '--bag', '2']\n",
      "['vw', 'src/datasets/communities-and-crime/communities-and-crime_2.vw.gz', '-b', '24', '--progress', '1', '--cbify', '2', '--learning_rate', '0.1', '--cb_type', 'mtr', '--bag', '4']\n",
      "['vw', 'src/datasets/communities-and-crime/communities-and-crime_2.vw.gz', '-b', '24', '--progress', '1', '--cbify', '2', '--learning_rate', '0.1', '--cb_type', 'mtr', '--bag', '8']\n",
      "['vw', 'src/datasets/communities-and-crime/communities-and-crime_2.vw.gz', '-b', '24', '--progress', '1', '--cbify', '2', '--learning_rate', '0.1', '--cb_type', 'mtr', '--bag', '16']\n",
      "['vw', 'src/datasets/communities-and-crime/communities-and-crime_2.vw.gz', '-b', '24', '--progress', '1', '--cbify', '2', '--learning_rate', '1', '--cb_type', 'dr', '--bag', '2']\n",
      "['vw', 'src/datasets/communities-and-crime/communities-and-crime_2.vw.gz', '-b', '24', '--progress', '1', '--cbify', '2', '--learning_rate', '1', '--cb_type', 'dr', '--bag', '4']\n",
      "['vw', 'src/datasets/communities-and-crime/communities-and-crime_2.vw.gz', '-b', '24', '--progress', '1', '--cbify', '2', '--learning_rate', '1', '--cb_type', 'dr', '--bag', '8']\n",
      "['vw', 'src/datasets/communities-and-crime/communities-and-crime_2.vw.gz', '-b', '24', '--progress', '1', '--cbify', '2', '--learning_rate', '1', '--cb_type', 'dr', '--bag', '16']\n",
      "['vw', 'src/datasets/communities-and-crime/communities-and-crime_2.vw.gz', '-b', '24', '--progress', '1', '--cbify', '2', '--learning_rate', '1', '--cb_type', 'ips', '--bag', '2']\n",
      "['vw', 'src/datasets/communities-and-crime/communities-and-crime_2.vw.gz', '-b', '24', '--progress', '1', '--cbify', '2', '--learning_rate', '1', '--cb_type', 'ips', '--bag', '4']\n",
      "['vw', 'src/datasets/communities-and-crime/communities-and-crime_2.vw.gz', '-b', '24', '--progress', '1', '--cbify', '2', '--learning_rate', '1', '--cb_type', 'ips', '--bag', '8']\n",
      "['vw', 'src/datasets/communities-and-crime/communities-and-crime_2.vw.gz', '-b', '24', '--progress', '1', '--cbify', '2', '--learning_rate', '1', '--cb_type', 'ips', '--bag', '16']\n",
      "['vw', 'src/datasets/communities-and-crime/communities-and-crime_2.vw.gz', '-b', '24', '--progress', '1', '--cbify', '2', '--learning_rate', '1', '--cb_type', 'mtr', '--bag', '2']\n",
      "['vw', 'src/datasets/communities-and-crime/communities-and-crime_2.vw.gz', '-b', '24', '--progress', '1', '--cbify', '2', '--learning_rate', '1', '--cb_type', 'mtr', '--bag', '4']\n",
      "['vw', 'src/datasets/communities-and-crime/communities-and-crime_2.vw.gz', '-b', '24', '--progress', '1', '--cbify', '2', '--learning_rate', '1', '--cb_type', 'mtr', '--bag', '8']\n",
      "['vw', 'src/datasets/communities-and-crime/communities-and-crime_2.vw.gz', '-b', '24', '--progress', '1', '--cbify', '2', '--learning_rate', '1', '--cb_type', 'mtr', '--bag', '16']\n",
      "['vw', 'src/datasets/communities-and-crime/communities-and-crime_2.vw.gz', '-b', '24', '--progress', '1', '--cbify', '2', '--learning_rate', '10', '--cb_type', 'dr', '--bag', '2']\n",
      "['vw', 'src/datasets/communities-and-crime/communities-and-crime_2.vw.gz', '-b', '24', '--progress', '1', '--cbify', '2', '--learning_rate', '10', '--cb_type', 'dr', '--bag', '4']\n",
      "['vw', 'src/datasets/communities-and-crime/communities-and-crime_2.vw.gz', '-b', '24', '--progress', '1', '--cbify', '2', '--learning_rate', '10', '--cb_type', 'dr', '--bag', '8']\n",
      "['vw', 'src/datasets/communities-and-crime/communities-and-crime_2.vw.gz', '-b', '24', '--progress', '1', '--cbify', '2', '--learning_rate', '10', '--cb_type', 'dr', '--bag', '16']\n",
      "['vw', 'src/datasets/communities-and-crime/communities-and-crime_2.vw.gz', '-b', '24', '--progress', '1', '--cbify', '2', '--learning_rate', '10', '--cb_type', 'ips', '--bag', '2']\n",
      "['vw', 'src/datasets/communities-and-crime/communities-and-crime_2.vw.gz', '-b', '24', '--progress', '1', '--cbify', '2', '--learning_rate', '10', '--cb_type', 'ips', '--bag', '4']\n",
      "['vw', 'src/datasets/communities-and-crime/communities-and-crime_2.vw.gz', '-b', '24', '--progress', '1', '--cbify', '2', '--learning_rate', '10', '--cb_type', 'ips', '--bag', '8']\n",
      "['vw', 'src/datasets/communities-and-crime/communities-and-crime_2.vw.gz', '-b', '24', '--progress', '1', '--cbify', '2', '--learning_rate', '10', '--cb_type', 'ips', '--bag', '16']\n",
      "['vw', 'src/datasets/communities-and-crime/communities-and-crime_2.vw.gz', '-b', '24', '--progress', '1', '--cbify', '2', '--learning_rate', '10', '--cb_type', 'mtr', '--bag', '2']\n",
      "['vw', 'src/datasets/communities-and-crime/communities-and-crime_2.vw.gz', '-b', '24', '--progress', '1', '--cbify', '2', '--learning_rate', '10', '--cb_type', 'mtr', '--bag', '4']\n",
      "['vw', 'src/datasets/communities-and-crime/communities-and-crime_2.vw.gz', '-b', '24', '--progress', '1', '--cbify', '2', '--learning_rate', '10', '--cb_type', 'mtr', '--bag', '8']\n",
      "['vw', 'src/datasets/communities-and-crime/communities-and-crime_2.vw.gz', '-b', '24', '--progress', '1', '--cbify', '2', '--learning_rate', '10', '--cb_type', 'mtr', '--bag', '16']\n"
     ]
    }
   ],
   "source": [
    "from src.eval_job import *\n",
    "run_jobs()"
   ]
  }
 ],
 "metadata": {
  "kernelspec": {
   "display_name": "Python 3.9.7 ('base')",
   "language": "python",
   "name": "python3"
  },
  "language_info": {
   "codemirror_mode": {
    "name": "ipython",
    "version": 3
   },
   "file_extension": ".py",
   "mimetype": "text/x-python",
   "name": "python",
   "nbconvert_exporter": "python",
   "pygments_lexer": "ipython3",
   "version": "3.9.7"
  },
  "orig_nbformat": 4,
  "vscode": {
   "interpreter": {
    "hash": "40d3a090f54c6569ab1632332b64b2c03c39dcf918b08424e98f38b5ae0af88f"
   }
  }
 },
 "nbformat": 4,
 "nbformat_minor": 2
}
