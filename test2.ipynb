{
 "cells": [
  {
   "cell_type": "code",
   "execution_count": 1,
   "metadata": {},
   "outputs": [
    {
     "name": "stdout",
     "output_type": "stream",
     "text": [
      "['vw', 'src/datasets/adult/adult_2.vw.gz', '-b', '24', '--progress', '1', '--cbify', '2', '--learning_rate', '0.001', '--cb_type', 'dr', '--epsilon', '0']\n"
     ]
    },
    {
     "name": "stderr",
     "output_type": "stream",
     "text": [
      "/Users/wty6162/Desktop/fa-alg/src/eval_metric_cb.py:46: RuntimeWarning: invalid value encountered in double_scalars\n",
      "  avg_loss = [cumu_group_loss[i][k] / cumu_group_num[i][k] for k in range(self.group_num)]\n",
      "/Users/wty6162/Desktop/fa-alg/src/eval_metric_cb.py:92: RuntimeWarning: invalid value encountered in double_scalars\n",
      "  group_action_parity[k] = np.sum([abs(avg_action_num[j]/(i + 1) - group_action_num[k][j]/sum(group_action_num[k]))\n"
     ]
    },
    {
     "name": "stdout",
     "output_type": "stream",
     "text": [
      "['vw', 'src/datasets/adult/adult_2.vw.gz', '-b', '24', '--progress', '1', '--cbify', '2', '--learning_rate', '0.001', '--cb_type', 'dr', '--epsilon', '0.02']\n"
     ]
    },
    {
     "name": "stderr",
     "output_type": "stream",
     "text": [
      "/Users/wty6162/Desktop/fa-alg/src/eval_metric_cb.py:46: RuntimeWarning: invalid value encountered in double_scalars\n",
      "  avg_loss = [cumu_group_loss[i][k] / cumu_group_num[i][k] for k in range(self.group_num)]\n",
      "/Users/wty6162/Desktop/fa-alg/src/eval_metric_cb.py:92: RuntimeWarning: invalid value encountered in double_scalars\n",
      "  group_action_parity[k] = np.sum([abs(avg_action_num[j]/(i + 1) - group_action_num[k][j]/sum(group_action_num[k]))\n"
     ]
    },
    {
     "name": "stdout",
     "output_type": "stream",
     "text": [
      "['vw', 'src/datasets/adult/adult_2.vw.gz', '-b', '24', '--progress', '1', '--cbify', '2', '--learning_rate', '0.001', '--cb_type', 'dr', '--epsilon', '0.05']\n"
     ]
    },
    {
     "name": "stderr",
     "output_type": "stream",
     "text": [
      "/Users/wty6162/Desktop/fa-alg/src/eval_metric_cb.py:46: RuntimeWarning: invalid value encountered in double_scalars\n",
      "  avg_loss = [cumu_group_loss[i][k] / cumu_group_num[i][k] for k in range(self.group_num)]\n",
      "/Users/wty6162/Desktop/fa-alg/src/eval_metric_cb.py:92: RuntimeWarning: invalid value encountered in double_scalars\n",
      "  group_action_parity[k] = np.sum([abs(avg_action_num[j]/(i + 1) - group_action_num[k][j]/sum(group_action_num[k]))\n"
     ]
    },
    {
     "name": "stdout",
     "output_type": "stream",
     "text": [
      "['vw', 'src/datasets/adult/adult_2.vw.gz', '-b', '24', '--progress', '1', '--cbify', '2', '--learning_rate', '0.001', '--cb_type', 'dr', '--epsilon', '0.1']\n"
     ]
    },
    {
     "name": "stderr",
     "output_type": "stream",
     "text": [
      "/Users/wty6162/Desktop/fa-alg/src/eval_metric_cb.py:46: RuntimeWarning: invalid value encountered in double_scalars\n",
      "  avg_loss = [cumu_group_loss[i][k] / cumu_group_num[i][k] for k in range(self.group_num)]\n",
      "/Users/wty6162/Desktop/fa-alg/src/eval_metric_cb.py:92: RuntimeWarning: invalid value encountered in double_scalars\n",
      "  group_action_parity[k] = np.sum([abs(avg_action_num[j]/(i + 1) - group_action_num[k][j]/sum(group_action_num[k]))\n"
     ]
    },
    {
     "name": "stdout",
     "output_type": "stream",
     "text": [
      "['vw', 'src/datasets/adult/adult_2.vw.gz', '-b', '24', '--progress', '1', '--cbify', '2', '--learning_rate', '0.001', '--cb_type', 'ips', '--epsilon', '0']\n"
     ]
    },
    {
     "name": "stderr",
     "output_type": "stream",
     "text": [
      "/Users/wty6162/Desktop/fa-alg/src/eval_metric_cb.py:46: RuntimeWarning: invalid value encountered in double_scalars\n",
      "  avg_loss = [cumu_group_loss[i][k] / cumu_group_num[i][k] for k in range(self.group_num)]\n",
      "/Users/wty6162/Desktop/fa-alg/src/eval_metric_cb.py:92: RuntimeWarning: invalid value encountered in double_scalars\n",
      "  group_action_parity[k] = np.sum([abs(avg_action_num[j]/(i + 1) - group_action_num[k][j]/sum(group_action_num[k]))\n"
     ]
    },
    {
     "name": "stdout",
     "output_type": "stream",
     "text": [
      "['vw', 'src/datasets/adult/adult_2.vw.gz', '-b', '24', '--progress', '1', '--cbify', '2', '--learning_rate', '0.001', '--cb_type', 'ips', '--epsilon', '0.02']\n"
     ]
    },
    {
     "name": "stderr",
     "output_type": "stream",
     "text": [
      "/Users/wty6162/Desktop/fa-alg/src/eval_metric_cb.py:46: RuntimeWarning: invalid value encountered in double_scalars\n",
      "  avg_loss = [cumu_group_loss[i][k] / cumu_group_num[i][k] for k in range(self.group_num)]\n",
      "/Users/wty6162/Desktop/fa-alg/src/eval_metric_cb.py:92: RuntimeWarning: invalid value encountered in double_scalars\n",
      "  group_action_parity[k] = np.sum([abs(avg_action_num[j]/(i + 1) - group_action_num[k][j]/sum(group_action_num[k]))\n"
     ]
    },
    {
     "name": "stdout",
     "output_type": "stream",
     "text": [
      "['vw', 'src/datasets/adult/adult_2.vw.gz', '-b', '24', '--progress', '1', '--cbify', '2', '--learning_rate', '0.001', '--cb_type', 'ips', '--epsilon', '0.05']\n"
     ]
    },
    {
     "name": "stderr",
     "output_type": "stream",
     "text": [
      "/Users/wty6162/Desktop/fa-alg/src/eval_metric_cb.py:46: RuntimeWarning: invalid value encountered in double_scalars\n",
      "  avg_loss = [cumu_group_loss[i][k] / cumu_group_num[i][k] for k in range(self.group_num)]\n",
      "/Users/wty6162/Desktop/fa-alg/src/eval_metric_cb.py:92: RuntimeWarning: invalid value encountered in double_scalars\n",
      "  group_action_parity[k] = np.sum([abs(avg_action_num[j]/(i + 1) - group_action_num[k][j]/sum(group_action_num[k]))\n"
     ]
    },
    {
     "name": "stdout",
     "output_type": "stream",
     "text": [
      "['vw', 'src/datasets/adult/adult_2.vw.gz', '-b', '24', '--progress', '1', '--cbify', '2', '--learning_rate', '0.001', '--cb_type', 'ips', '--epsilon', '0.1']\n"
     ]
    },
    {
     "name": "stderr",
     "output_type": "stream",
     "text": [
      "/Users/wty6162/Desktop/fa-alg/src/eval_metric_cb.py:46: RuntimeWarning: invalid value encountered in double_scalars\n",
      "  avg_loss = [cumu_group_loss[i][k] / cumu_group_num[i][k] for k in range(self.group_num)]\n",
      "/Users/wty6162/Desktop/fa-alg/src/eval_metric_cb.py:92: RuntimeWarning: invalid value encountered in double_scalars\n",
      "  group_action_parity[k] = np.sum([abs(avg_action_num[j]/(i + 1) - group_action_num[k][j]/sum(group_action_num[k]))\n"
     ]
    },
    {
     "name": "stdout",
     "output_type": "stream",
     "text": [
      "['vw', 'src/datasets/adult/adult_2.vw.gz', '-b', '24', '--progress', '1', '--cbify', '2', '--learning_rate', '0.001', '--cb_type', 'mtr', '--epsilon', '0']\n"
     ]
    },
    {
     "name": "stderr",
     "output_type": "stream",
     "text": [
      "/Users/wty6162/Desktop/fa-alg/src/eval_metric_cb.py:46: RuntimeWarning: invalid value encountered in double_scalars\n",
      "  avg_loss = [cumu_group_loss[i][k] / cumu_group_num[i][k] for k in range(self.group_num)]\n",
      "/Users/wty6162/Desktop/fa-alg/src/eval_metric_cb.py:92: RuntimeWarning: invalid value encountered in double_scalars\n",
      "  group_action_parity[k] = np.sum([abs(avg_action_num[j]/(i + 1) - group_action_num[k][j]/sum(group_action_num[k]))\n"
     ]
    },
    {
     "name": "stdout",
     "output_type": "stream",
     "text": [
      "['vw', 'src/datasets/adult/adult_2.vw.gz', '-b', '24', '--progress', '1', '--cbify', '2', '--learning_rate', '0.001', '--cb_type', 'mtr', '--epsilon', '0.02']\n"
     ]
    },
    {
     "name": "stderr",
     "output_type": "stream",
     "text": [
      "/Users/wty6162/Desktop/fa-alg/src/eval_metric_cb.py:46: RuntimeWarning: invalid value encountered in double_scalars\n",
      "  avg_loss = [cumu_group_loss[i][k] / cumu_group_num[i][k] for k in range(self.group_num)]\n",
      "/Users/wty6162/Desktop/fa-alg/src/eval_metric_cb.py:92: RuntimeWarning: invalid value encountered in double_scalars\n",
      "  group_action_parity[k] = np.sum([abs(avg_action_num[j]/(i + 1) - group_action_num[k][j]/sum(group_action_num[k]))\n"
     ]
    },
    {
     "name": "stdout",
     "output_type": "stream",
     "text": [
      "['vw', 'src/datasets/adult/adult_2.vw.gz', '-b', '24', '--progress', '1', '--cbify', '2', '--learning_rate', '0.001', '--cb_type', 'mtr', '--epsilon', '0.05']\n"
     ]
    },
    {
     "name": "stderr",
     "output_type": "stream",
     "text": [
      "/Users/wty6162/Desktop/fa-alg/src/eval_metric_cb.py:46: RuntimeWarning: invalid value encountered in double_scalars\n",
      "  avg_loss = [cumu_group_loss[i][k] / cumu_group_num[i][k] for k in range(self.group_num)]\n",
      "/Users/wty6162/Desktop/fa-alg/src/eval_metric_cb.py:92: RuntimeWarning: invalid value encountered in double_scalars\n",
      "  group_action_parity[k] = np.sum([abs(avg_action_num[j]/(i + 1) - group_action_num[k][j]/sum(group_action_num[k]))\n"
     ]
    },
    {
     "name": "stdout",
     "output_type": "stream",
     "text": [
      "['vw', 'src/datasets/adult/adult_2.vw.gz', '-b', '24', '--progress', '1', '--cbify', '2', '--learning_rate', '0.001', '--cb_type', 'mtr', '--epsilon', '0.1']\n"
     ]
    },
    {
     "name": "stderr",
     "output_type": "stream",
     "text": [
      "/Users/wty6162/Desktop/fa-alg/src/eval_metric_cb.py:46: RuntimeWarning: invalid value encountered in double_scalars\n",
      "  avg_loss = [cumu_group_loss[i][k] / cumu_group_num[i][k] for k in range(self.group_num)]\n",
      "/Users/wty6162/Desktop/fa-alg/src/eval_metric_cb.py:92: RuntimeWarning: invalid value encountered in double_scalars\n",
      "  group_action_parity[k] = np.sum([abs(avg_action_num[j]/(i + 1) - group_action_num[k][j]/sum(group_action_num[k]))\n"
     ]
    },
    {
     "name": "stdout",
     "output_type": "stream",
     "text": [
      "['vw', 'src/datasets/adult/adult_2.vw.gz', '-b', '24', '--progress', '1', '--cbify', '2', '--learning_rate', '0.01', '--cb_type', 'dr', '--epsilon', '0']\n"
     ]
    },
    {
     "name": "stderr",
     "output_type": "stream",
     "text": [
      "/Users/wty6162/Desktop/fa-alg/src/eval_metric_cb.py:46: RuntimeWarning: invalid value encountered in double_scalars\n",
      "  avg_loss = [cumu_group_loss[i][k] / cumu_group_num[i][k] for k in range(self.group_num)]\n",
      "/Users/wty6162/Desktop/fa-alg/src/eval_metric_cb.py:92: RuntimeWarning: invalid value encountered in double_scalars\n",
      "  group_action_parity[k] = np.sum([abs(avg_action_num[j]/(i + 1) - group_action_num[k][j]/sum(group_action_num[k]))\n"
     ]
    },
    {
     "name": "stdout",
     "output_type": "stream",
     "text": [
      "['vw', 'src/datasets/adult/adult_2.vw.gz', '-b', '24', '--progress', '1', '--cbify', '2', '--learning_rate', '0.01', '--cb_type', 'dr', '--epsilon', '0.02']\n"
     ]
    },
    {
     "name": "stderr",
     "output_type": "stream",
     "text": [
      "/Users/wty6162/Desktop/fa-alg/src/eval_metric_cb.py:46: RuntimeWarning: invalid value encountered in double_scalars\n",
      "  avg_loss = [cumu_group_loss[i][k] / cumu_group_num[i][k] for k in range(self.group_num)]\n",
      "/Users/wty6162/Desktop/fa-alg/src/eval_metric_cb.py:92: RuntimeWarning: invalid value encountered in double_scalars\n",
      "  group_action_parity[k] = np.sum([abs(avg_action_num[j]/(i + 1) - group_action_num[k][j]/sum(group_action_num[k]))\n"
     ]
    },
    {
     "name": "stdout",
     "output_type": "stream",
     "text": [
      "['vw', 'src/datasets/adult/adult_2.vw.gz', '-b', '24', '--progress', '1', '--cbify', '2', '--learning_rate', '0.01', '--cb_type', 'dr', '--epsilon', '0.05']\n"
     ]
    },
    {
     "name": "stderr",
     "output_type": "stream",
     "text": [
      "/Users/wty6162/Desktop/fa-alg/src/eval_metric_cb.py:46: RuntimeWarning: invalid value encountered in double_scalars\n",
      "  avg_loss = [cumu_group_loss[i][k] / cumu_group_num[i][k] for k in range(self.group_num)]\n",
      "/Users/wty6162/Desktop/fa-alg/src/eval_metric_cb.py:92: RuntimeWarning: invalid value encountered in double_scalars\n",
      "  group_action_parity[k] = np.sum([abs(avg_action_num[j]/(i + 1) - group_action_num[k][j]/sum(group_action_num[k]))\n"
     ]
    },
    {
     "name": "stdout",
     "output_type": "stream",
     "text": [
      "['vw', 'src/datasets/adult/adult_2.vw.gz', '-b', '24', '--progress', '1', '--cbify', '2', '--learning_rate', '0.01', '--cb_type', 'dr', '--epsilon', '0.1']\n"
     ]
    },
    {
     "name": "stderr",
     "output_type": "stream",
     "text": [
      "/Users/wty6162/Desktop/fa-alg/src/eval_metric_cb.py:46: RuntimeWarning: invalid value encountered in double_scalars\n",
      "  avg_loss = [cumu_group_loss[i][k] / cumu_group_num[i][k] for k in range(self.group_num)]\n",
      "/Users/wty6162/Desktop/fa-alg/src/eval_metric_cb.py:92: RuntimeWarning: invalid value encountered in double_scalars\n",
      "  group_action_parity[k] = np.sum([abs(avg_action_num[j]/(i + 1) - group_action_num[k][j]/sum(group_action_num[k]))\n"
     ]
    },
    {
     "name": "stdout",
     "output_type": "stream",
     "text": [
      "['vw', 'src/datasets/adult/adult_2.vw.gz', '-b', '24', '--progress', '1', '--cbify', '2', '--learning_rate', '0.01', '--cb_type', 'ips', '--epsilon', '0']\n"
     ]
    },
    {
     "name": "stderr",
     "output_type": "stream",
     "text": [
      "/Users/wty6162/Desktop/fa-alg/src/eval_metric_cb.py:46: RuntimeWarning: invalid value encountered in double_scalars\n",
      "  avg_loss = [cumu_group_loss[i][k] / cumu_group_num[i][k] for k in range(self.group_num)]\n",
      "/Users/wty6162/Desktop/fa-alg/src/eval_metric_cb.py:92: RuntimeWarning: invalid value encountered in double_scalars\n",
      "  group_action_parity[k] = np.sum([abs(avg_action_num[j]/(i + 1) - group_action_num[k][j]/sum(group_action_num[k]))\n"
     ]
    },
    {
     "name": "stdout",
     "output_type": "stream",
     "text": [
      "['vw', 'src/datasets/adult/adult_2.vw.gz', '-b', '24', '--progress', '1', '--cbify', '2', '--learning_rate', '0.01', '--cb_type', 'ips', '--epsilon', '0.02']\n"
     ]
    },
    {
     "name": "stderr",
     "output_type": "stream",
     "text": [
      "/Users/wty6162/Desktop/fa-alg/src/eval_metric_cb.py:46: RuntimeWarning: invalid value encountered in double_scalars\n",
      "  avg_loss = [cumu_group_loss[i][k] / cumu_group_num[i][k] for k in range(self.group_num)]\n",
      "/Users/wty6162/Desktop/fa-alg/src/eval_metric_cb.py:92: RuntimeWarning: invalid value encountered in double_scalars\n",
      "  group_action_parity[k] = np.sum([abs(avg_action_num[j]/(i + 1) - group_action_num[k][j]/sum(group_action_num[k]))\n"
     ]
    },
    {
     "name": "stdout",
     "output_type": "stream",
     "text": [
      "['vw', 'src/datasets/adult/adult_2.vw.gz', '-b', '24', '--progress', '1', '--cbify', '2', '--learning_rate', '0.01', '--cb_type', 'ips', '--epsilon', '0.05']\n"
     ]
    },
    {
     "name": "stderr",
     "output_type": "stream",
     "text": [
      "/Users/wty6162/Desktop/fa-alg/src/eval_metric_cb.py:46: RuntimeWarning: invalid value encountered in double_scalars\n",
      "  avg_loss = [cumu_group_loss[i][k] / cumu_group_num[i][k] for k in range(self.group_num)]\n",
      "/Users/wty6162/Desktop/fa-alg/src/eval_metric_cb.py:92: RuntimeWarning: invalid value encountered in double_scalars\n",
      "  group_action_parity[k] = np.sum([abs(avg_action_num[j]/(i + 1) - group_action_num[k][j]/sum(group_action_num[k]))\n"
     ]
    },
    {
     "name": "stdout",
     "output_type": "stream",
     "text": [
      "['vw', 'src/datasets/adult/adult_2.vw.gz', '-b', '24', '--progress', '1', '--cbify', '2', '--learning_rate', '0.01', '--cb_type', 'ips', '--epsilon', '0.1']\n"
     ]
    },
    {
     "name": "stderr",
     "output_type": "stream",
     "text": [
      "/Users/wty6162/Desktop/fa-alg/src/eval_metric_cb.py:46: RuntimeWarning: invalid value encountered in double_scalars\n",
      "  avg_loss = [cumu_group_loss[i][k] / cumu_group_num[i][k] for k in range(self.group_num)]\n",
      "/Users/wty6162/Desktop/fa-alg/src/eval_metric_cb.py:92: RuntimeWarning: invalid value encountered in double_scalars\n",
      "  group_action_parity[k] = np.sum([abs(avg_action_num[j]/(i + 1) - group_action_num[k][j]/sum(group_action_num[k]))\n"
     ]
    },
    {
     "name": "stdout",
     "output_type": "stream",
     "text": [
      "['vw', 'src/datasets/adult/adult_2.vw.gz', '-b', '24', '--progress', '1', '--cbify', '2', '--learning_rate', '0.01', '--cb_type', 'mtr', '--epsilon', '0']\n"
     ]
    },
    {
     "name": "stderr",
     "output_type": "stream",
     "text": [
      "/Users/wty6162/Desktop/fa-alg/src/eval_metric_cb.py:46: RuntimeWarning: invalid value encountered in double_scalars\n",
      "  avg_loss = [cumu_group_loss[i][k] / cumu_group_num[i][k] for k in range(self.group_num)]\n",
      "/Users/wty6162/Desktop/fa-alg/src/eval_metric_cb.py:92: RuntimeWarning: invalid value encountered in double_scalars\n",
      "  group_action_parity[k] = np.sum([abs(avg_action_num[j]/(i + 1) - group_action_num[k][j]/sum(group_action_num[k]))\n"
     ]
    },
    {
     "name": "stdout",
     "output_type": "stream",
     "text": [
      "['vw', 'src/datasets/adult/adult_2.vw.gz', '-b', '24', '--progress', '1', '--cbify', '2', '--learning_rate', '0.01', '--cb_type', 'mtr', '--epsilon', '0.02']\n"
     ]
    },
    {
     "name": "stderr",
     "output_type": "stream",
     "text": [
      "/Users/wty6162/Desktop/fa-alg/src/eval_metric_cb.py:46: RuntimeWarning: invalid value encountered in double_scalars\n",
      "  avg_loss = [cumu_group_loss[i][k] / cumu_group_num[i][k] for k in range(self.group_num)]\n",
      "/Users/wty6162/Desktop/fa-alg/src/eval_metric_cb.py:92: RuntimeWarning: invalid value encountered in double_scalars\n",
      "  group_action_parity[k] = np.sum([abs(avg_action_num[j]/(i + 1) - group_action_num[k][j]/sum(group_action_num[k]))\n"
     ]
    },
    {
     "name": "stdout",
     "output_type": "stream",
     "text": [
      "['vw', 'src/datasets/adult/adult_2.vw.gz', '-b', '24', '--progress', '1', '--cbify', '2', '--learning_rate', '0.01', '--cb_type', 'mtr', '--epsilon', '0.05']\n"
     ]
    },
    {
     "name": "stderr",
     "output_type": "stream",
     "text": [
      "/Users/wty6162/Desktop/fa-alg/src/eval_metric_cb.py:46: RuntimeWarning: invalid value encountered in double_scalars\n",
      "  avg_loss = [cumu_group_loss[i][k] / cumu_group_num[i][k] for k in range(self.group_num)]\n",
      "/Users/wty6162/Desktop/fa-alg/src/eval_metric_cb.py:92: RuntimeWarning: invalid value encountered in double_scalars\n",
      "  group_action_parity[k] = np.sum([abs(avg_action_num[j]/(i + 1) - group_action_num[k][j]/sum(group_action_num[k]))\n"
     ]
    },
    {
     "name": "stdout",
     "output_type": "stream",
     "text": [
      "['vw', 'src/datasets/adult/adult_2.vw.gz', '-b', '24', '--progress', '1', '--cbify', '2', '--learning_rate', '0.01', '--cb_type', 'mtr', '--epsilon', '0.1']\n"
     ]
    },
    {
     "name": "stderr",
     "output_type": "stream",
     "text": [
      "/Users/wty6162/Desktop/fa-alg/src/eval_metric_cb.py:46: RuntimeWarning: invalid value encountered in double_scalars\n",
      "  avg_loss = [cumu_group_loss[i][k] / cumu_group_num[i][k] for k in range(self.group_num)]\n",
      "/Users/wty6162/Desktop/fa-alg/src/eval_metric_cb.py:92: RuntimeWarning: invalid value encountered in double_scalars\n",
      "  group_action_parity[k] = np.sum([abs(avg_action_num[j]/(i + 1) - group_action_num[k][j]/sum(group_action_num[k]))\n"
     ]
    },
    {
     "name": "stdout",
     "output_type": "stream",
     "text": [
      "['vw', 'src/datasets/adult/adult_2.vw.gz', '-b', '24', '--progress', '1', '--cbify', '2', '--learning_rate', '0.1', '--cb_type', 'dr', '--epsilon', '0']\n"
     ]
    },
    {
     "name": "stderr",
     "output_type": "stream",
     "text": [
      "/Users/wty6162/Desktop/fa-alg/src/eval_metric_cb.py:46: RuntimeWarning: invalid value encountered in double_scalars\n",
      "  avg_loss = [cumu_group_loss[i][k] / cumu_group_num[i][k] for k in range(self.group_num)]\n",
      "/Users/wty6162/Desktop/fa-alg/src/eval_metric_cb.py:92: RuntimeWarning: invalid value encountered in double_scalars\n",
      "  group_action_parity[k] = np.sum([abs(avg_action_num[j]/(i + 1) - group_action_num[k][j]/sum(group_action_num[k]))\n"
     ]
    },
    {
     "name": "stdout",
     "output_type": "stream",
     "text": [
      "['vw', 'src/datasets/adult/adult_2.vw.gz', '-b', '24', '--progress', '1', '--cbify', '2', '--learning_rate', '0.1', '--cb_type', 'dr', '--epsilon', '0.02']\n"
     ]
    },
    {
     "name": "stderr",
     "output_type": "stream",
     "text": [
      "/Users/wty6162/Desktop/fa-alg/src/eval_metric_cb.py:46: RuntimeWarning: invalid value encountered in double_scalars\n",
      "  avg_loss = [cumu_group_loss[i][k] / cumu_group_num[i][k] for k in range(self.group_num)]\n",
      "/Users/wty6162/Desktop/fa-alg/src/eval_metric_cb.py:92: RuntimeWarning: invalid value encountered in double_scalars\n",
      "  group_action_parity[k] = np.sum([abs(avg_action_num[j]/(i + 1) - group_action_num[k][j]/sum(group_action_num[k]))\n"
     ]
    },
    {
     "name": "stdout",
     "output_type": "stream",
     "text": [
      "['vw', 'src/datasets/adult/adult_2.vw.gz', '-b', '24', '--progress', '1', '--cbify', '2', '--learning_rate', '0.1', '--cb_type', 'dr', '--epsilon', '0.05']\n"
     ]
    },
    {
     "name": "stderr",
     "output_type": "stream",
     "text": [
      "/Users/wty6162/Desktop/fa-alg/src/eval_metric_cb.py:46: RuntimeWarning: invalid value encountered in double_scalars\n",
      "  avg_loss = [cumu_group_loss[i][k] / cumu_group_num[i][k] for k in range(self.group_num)]\n",
      "/Users/wty6162/Desktop/fa-alg/src/eval_metric_cb.py:92: RuntimeWarning: invalid value encountered in double_scalars\n",
      "  group_action_parity[k] = np.sum([abs(avg_action_num[j]/(i + 1) - group_action_num[k][j]/sum(group_action_num[k]))\n"
     ]
    },
    {
     "name": "stdout",
     "output_type": "stream",
     "text": [
      "['vw', 'src/datasets/adult/adult_2.vw.gz', '-b', '24', '--progress', '1', '--cbify', '2', '--learning_rate', '0.1', '--cb_type', 'dr', '--epsilon', '0.1']\n"
     ]
    },
    {
     "name": "stderr",
     "output_type": "stream",
     "text": [
      "/Users/wty6162/Desktop/fa-alg/src/eval_metric_cb.py:46: RuntimeWarning: invalid value encountered in double_scalars\n",
      "  avg_loss = [cumu_group_loss[i][k] / cumu_group_num[i][k] for k in range(self.group_num)]\n",
      "/Users/wty6162/Desktop/fa-alg/src/eval_metric_cb.py:92: RuntimeWarning: invalid value encountered in double_scalars\n",
      "  group_action_parity[k] = np.sum([abs(avg_action_num[j]/(i + 1) - group_action_num[k][j]/sum(group_action_num[k]))\n"
     ]
    },
    {
     "name": "stdout",
     "output_type": "stream",
     "text": [
      "['vw', 'src/datasets/adult/adult_2.vw.gz', '-b', '24', '--progress', '1', '--cbify', '2', '--learning_rate', '0.1', '--cb_type', 'ips', '--epsilon', '0']\n"
     ]
    },
    {
     "name": "stderr",
     "output_type": "stream",
     "text": [
      "/Users/wty6162/Desktop/fa-alg/src/eval_metric_cb.py:46: RuntimeWarning: invalid value encountered in double_scalars\n",
      "  avg_loss = [cumu_group_loss[i][k] / cumu_group_num[i][k] for k in range(self.group_num)]\n",
      "/Users/wty6162/Desktop/fa-alg/src/eval_metric_cb.py:92: RuntimeWarning: invalid value encountered in double_scalars\n",
      "  group_action_parity[k] = np.sum([abs(avg_action_num[j]/(i + 1) - group_action_num[k][j]/sum(group_action_num[k]))\n"
     ]
    },
    {
     "name": "stdout",
     "output_type": "stream",
     "text": [
      "['vw', 'src/datasets/adult/adult_2.vw.gz', '-b', '24', '--progress', '1', '--cbify', '2', '--learning_rate', '0.1', '--cb_type', 'ips', '--epsilon', '0.02']\n"
     ]
    },
    {
     "name": "stderr",
     "output_type": "stream",
     "text": [
      "/Users/wty6162/Desktop/fa-alg/src/eval_metric_cb.py:46: RuntimeWarning: invalid value encountered in double_scalars\n",
      "  avg_loss = [cumu_group_loss[i][k] / cumu_group_num[i][k] for k in range(self.group_num)]\n",
      "/Users/wty6162/Desktop/fa-alg/src/eval_metric_cb.py:92: RuntimeWarning: invalid value encountered in double_scalars\n",
      "  group_action_parity[k] = np.sum([abs(avg_action_num[j]/(i + 1) - group_action_num[k][j]/sum(group_action_num[k]))\n"
     ]
    },
    {
     "name": "stdout",
     "output_type": "stream",
     "text": [
      "['vw', 'src/datasets/adult/adult_2.vw.gz', '-b', '24', '--progress', '1', '--cbify', '2', '--learning_rate', '0.1', '--cb_type', 'ips', '--epsilon', '0.05']\n"
     ]
    },
    {
     "name": "stderr",
     "output_type": "stream",
     "text": [
      "/Users/wty6162/Desktop/fa-alg/src/eval_metric_cb.py:46: RuntimeWarning: invalid value encountered in double_scalars\n",
      "  avg_loss = [cumu_group_loss[i][k] / cumu_group_num[i][k] for k in range(self.group_num)]\n",
      "/Users/wty6162/Desktop/fa-alg/src/eval_metric_cb.py:92: RuntimeWarning: invalid value encountered in double_scalars\n",
      "  group_action_parity[k] = np.sum([abs(avg_action_num[j]/(i + 1) - group_action_num[k][j]/sum(group_action_num[k]))\n"
     ]
    },
    {
     "name": "stdout",
     "output_type": "stream",
     "text": [
      "['vw', 'src/datasets/adult/adult_2.vw.gz', '-b', '24', '--progress', '1', '--cbify', '2', '--learning_rate', '0.1', '--cb_type', 'ips', '--epsilon', '0.1']\n"
     ]
    },
    {
     "name": "stderr",
     "output_type": "stream",
     "text": [
      "/Users/wty6162/Desktop/fa-alg/src/eval_metric_cb.py:46: RuntimeWarning: invalid value encountered in double_scalars\n",
      "  avg_loss = [cumu_group_loss[i][k] / cumu_group_num[i][k] for k in range(self.group_num)]\n",
      "/Users/wty6162/Desktop/fa-alg/src/eval_metric_cb.py:92: RuntimeWarning: invalid value encountered in double_scalars\n",
      "  group_action_parity[k] = np.sum([abs(avg_action_num[j]/(i + 1) - group_action_num[k][j]/sum(group_action_num[k]))\n"
     ]
    },
    {
     "name": "stdout",
     "output_type": "stream",
     "text": [
      "['vw', 'src/datasets/adult/adult_2.vw.gz', '-b', '24', '--progress', '1', '--cbify', '2', '--learning_rate', '0.1', '--cb_type', 'mtr', '--epsilon', '0']\n"
     ]
    },
    {
     "name": "stderr",
     "output_type": "stream",
     "text": [
      "/Users/wty6162/Desktop/fa-alg/src/eval_metric_cb.py:46: RuntimeWarning: invalid value encountered in double_scalars\n",
      "  avg_loss = [cumu_group_loss[i][k] / cumu_group_num[i][k] for k in range(self.group_num)]\n",
      "/Users/wty6162/Desktop/fa-alg/src/eval_metric_cb.py:92: RuntimeWarning: invalid value encountered in double_scalars\n",
      "  group_action_parity[k] = np.sum([abs(avg_action_num[j]/(i + 1) - group_action_num[k][j]/sum(group_action_num[k]))\n"
     ]
    },
    {
     "name": "stdout",
     "output_type": "stream",
     "text": [
      "['vw', 'src/datasets/adult/adult_2.vw.gz', '-b', '24', '--progress', '1', '--cbify', '2', '--learning_rate', '0.1', '--cb_type', 'mtr', '--epsilon', '0.02']\n"
     ]
    },
    {
     "name": "stderr",
     "output_type": "stream",
     "text": [
      "/Users/wty6162/Desktop/fa-alg/src/eval_metric_cb.py:46: RuntimeWarning: invalid value encountered in double_scalars\n",
      "  avg_loss = [cumu_group_loss[i][k] / cumu_group_num[i][k] for k in range(self.group_num)]\n",
      "/Users/wty6162/Desktop/fa-alg/src/eval_metric_cb.py:92: RuntimeWarning: invalid value encountered in double_scalars\n",
      "  group_action_parity[k] = np.sum([abs(avg_action_num[j]/(i + 1) - group_action_num[k][j]/sum(group_action_num[k]))\n"
     ]
    },
    {
     "name": "stdout",
     "output_type": "stream",
     "text": [
      "['vw', 'src/datasets/adult/adult_2.vw.gz', '-b', '24', '--progress', '1', '--cbify', '2', '--learning_rate', '0.1', '--cb_type', 'mtr', '--epsilon', '0.05']\n"
     ]
    },
    {
     "name": "stderr",
     "output_type": "stream",
     "text": [
      "/Users/wty6162/Desktop/fa-alg/src/eval_metric_cb.py:46: RuntimeWarning: invalid value encountered in double_scalars\n",
      "  avg_loss = [cumu_group_loss[i][k] / cumu_group_num[i][k] for k in range(self.group_num)]\n",
      "/Users/wty6162/Desktop/fa-alg/src/eval_metric_cb.py:92: RuntimeWarning: invalid value encountered in double_scalars\n",
      "  group_action_parity[k] = np.sum([abs(avg_action_num[j]/(i + 1) - group_action_num[k][j]/sum(group_action_num[k]))\n"
     ]
    },
    {
     "name": "stdout",
     "output_type": "stream",
     "text": [
      "['vw', 'src/datasets/adult/adult_2.vw.gz', '-b', '24', '--progress', '1', '--cbify', '2', '--learning_rate', '0.1', '--cb_type', 'mtr', '--epsilon', '0.1']\n"
     ]
    },
    {
     "name": "stderr",
     "output_type": "stream",
     "text": [
      "/Users/wty6162/Desktop/fa-alg/src/eval_metric_cb.py:46: RuntimeWarning: invalid value encountered in double_scalars\n",
      "  avg_loss = [cumu_group_loss[i][k] / cumu_group_num[i][k] for k in range(self.group_num)]\n",
      "/Users/wty6162/Desktop/fa-alg/src/eval_metric_cb.py:92: RuntimeWarning: invalid value encountered in double_scalars\n",
      "  group_action_parity[k] = np.sum([abs(avg_action_num[j]/(i + 1) - group_action_num[k][j]/sum(group_action_num[k]))\n"
     ]
    },
    {
     "name": "stdout",
     "output_type": "stream",
     "text": [
      "['vw', 'src/datasets/adult/adult_2.vw.gz', '-b', '24', '--progress', '1', '--cbify', '2', '--learning_rate', '1', '--cb_type', 'dr', '--epsilon', '0']\n"
     ]
    },
    {
     "name": "stderr",
     "output_type": "stream",
     "text": [
      "/Users/wty6162/Desktop/fa-alg/src/eval_metric_cb.py:46: RuntimeWarning: invalid value encountered in double_scalars\n",
      "  avg_loss = [cumu_group_loss[i][k] / cumu_group_num[i][k] for k in range(self.group_num)]\n",
      "/Users/wty6162/Desktop/fa-alg/src/eval_metric_cb.py:92: RuntimeWarning: invalid value encountered in double_scalars\n",
      "  group_action_parity[k] = np.sum([abs(avg_action_num[j]/(i + 1) - group_action_num[k][j]/sum(group_action_num[k]))\n"
     ]
    },
    {
     "name": "stdout",
     "output_type": "stream",
     "text": [
      "['vw', 'src/datasets/adult/adult_2.vw.gz', '-b', '24', '--progress', '1', '--cbify', '2', '--learning_rate', '1', '--cb_type', 'dr', '--epsilon', '0.02']\n"
     ]
    },
    {
     "name": "stderr",
     "output_type": "stream",
     "text": [
      "/Users/wty6162/Desktop/fa-alg/src/eval_metric_cb.py:46: RuntimeWarning: invalid value encountered in double_scalars\n",
      "  avg_loss = [cumu_group_loss[i][k] / cumu_group_num[i][k] for k in range(self.group_num)]\n",
      "/Users/wty6162/Desktop/fa-alg/src/eval_metric_cb.py:92: RuntimeWarning: invalid value encountered in double_scalars\n",
      "  group_action_parity[k] = np.sum([abs(avg_action_num[j]/(i + 1) - group_action_num[k][j]/sum(group_action_num[k]))\n"
     ]
    },
    {
     "name": "stdout",
     "output_type": "stream",
     "text": [
      "['vw', 'src/datasets/adult/adult_2.vw.gz', '-b', '24', '--progress', '1', '--cbify', '2', '--learning_rate', '1', '--cb_type', 'dr', '--epsilon', '0.05']\n"
     ]
    },
    {
     "name": "stderr",
     "output_type": "stream",
     "text": [
      "/Users/wty6162/Desktop/fa-alg/src/eval_metric_cb.py:46: RuntimeWarning: invalid value encountered in double_scalars\n",
      "  avg_loss = [cumu_group_loss[i][k] / cumu_group_num[i][k] for k in range(self.group_num)]\n",
      "/Users/wty6162/Desktop/fa-alg/src/eval_metric_cb.py:92: RuntimeWarning: invalid value encountered in double_scalars\n",
      "  group_action_parity[k] = np.sum([abs(avg_action_num[j]/(i + 1) - group_action_num[k][j]/sum(group_action_num[k]))\n"
     ]
    },
    {
     "name": "stdout",
     "output_type": "stream",
     "text": [
      "['vw', 'src/datasets/adult/adult_2.vw.gz', '-b', '24', '--progress', '1', '--cbify', '2', '--learning_rate', '1', '--cb_type', 'dr', '--epsilon', '0.1']\n"
     ]
    },
    {
     "name": "stderr",
     "output_type": "stream",
     "text": [
      "/Users/wty6162/Desktop/fa-alg/src/eval_metric_cb.py:46: RuntimeWarning: invalid value encountered in double_scalars\n",
      "  avg_loss = [cumu_group_loss[i][k] / cumu_group_num[i][k] for k in range(self.group_num)]\n",
      "/Users/wty6162/Desktop/fa-alg/src/eval_metric_cb.py:92: RuntimeWarning: invalid value encountered in double_scalars\n",
      "  group_action_parity[k] = np.sum([abs(avg_action_num[j]/(i + 1) - group_action_num[k][j]/sum(group_action_num[k]))\n"
     ]
    },
    {
     "name": "stdout",
     "output_type": "stream",
     "text": [
      "['vw', 'src/datasets/adult/adult_2.vw.gz', '-b', '24', '--progress', '1', '--cbify', '2', '--learning_rate', '1', '--cb_type', 'ips', '--epsilon', '0']\n"
     ]
    },
    {
     "name": "stderr",
     "output_type": "stream",
     "text": [
      "/Users/wty6162/Desktop/fa-alg/src/eval_metric_cb.py:46: RuntimeWarning: invalid value encountered in double_scalars\n",
      "  avg_loss = [cumu_group_loss[i][k] / cumu_group_num[i][k] for k in range(self.group_num)]\n",
      "/Users/wty6162/Desktop/fa-alg/src/eval_metric_cb.py:92: RuntimeWarning: invalid value encountered in double_scalars\n",
      "  group_action_parity[k] = np.sum([abs(avg_action_num[j]/(i + 1) - group_action_num[k][j]/sum(group_action_num[k]))\n"
     ]
    },
    {
     "name": "stdout",
     "output_type": "stream",
     "text": [
      "['vw', 'src/datasets/adult/adult_2.vw.gz', '-b', '24', '--progress', '1', '--cbify', '2', '--learning_rate', '1', '--cb_type', 'ips', '--epsilon', '0.02']\n"
     ]
    },
    {
     "name": "stderr",
     "output_type": "stream",
     "text": [
      "/Users/wty6162/Desktop/fa-alg/src/eval_metric_cb.py:46: RuntimeWarning: invalid value encountered in double_scalars\n",
      "  avg_loss = [cumu_group_loss[i][k] / cumu_group_num[i][k] for k in range(self.group_num)]\n",
      "/Users/wty6162/Desktop/fa-alg/src/eval_metric_cb.py:92: RuntimeWarning: invalid value encountered in double_scalars\n",
      "  group_action_parity[k] = np.sum([abs(avg_action_num[j]/(i + 1) - group_action_num[k][j]/sum(group_action_num[k]))\n"
     ]
    },
    {
     "name": "stdout",
     "output_type": "stream",
     "text": [
      "['vw', 'src/datasets/adult/adult_2.vw.gz', '-b', '24', '--progress', '1', '--cbify', '2', '--learning_rate', '1', '--cb_type', 'ips', '--epsilon', '0.05']\n"
     ]
    },
    {
     "name": "stderr",
     "output_type": "stream",
     "text": [
      "/Users/wty6162/Desktop/fa-alg/src/eval_metric_cb.py:46: RuntimeWarning: invalid value encountered in double_scalars\n",
      "  avg_loss = [cumu_group_loss[i][k] / cumu_group_num[i][k] for k in range(self.group_num)]\n",
      "/Users/wty6162/Desktop/fa-alg/src/eval_metric_cb.py:92: RuntimeWarning: invalid value encountered in double_scalars\n",
      "  group_action_parity[k] = np.sum([abs(avg_action_num[j]/(i + 1) - group_action_num[k][j]/sum(group_action_num[k]))\n"
     ]
    },
    {
     "name": "stdout",
     "output_type": "stream",
     "text": [
      "['vw', 'src/datasets/adult/adult_2.vw.gz', '-b', '24', '--progress', '1', '--cbify', '2', '--learning_rate', '1', '--cb_type', 'ips', '--epsilon', '0.1']\n"
     ]
    },
    {
     "name": "stderr",
     "output_type": "stream",
     "text": [
      "/Users/wty6162/Desktop/fa-alg/src/eval_metric_cb.py:46: RuntimeWarning: invalid value encountered in double_scalars\n",
      "  avg_loss = [cumu_group_loss[i][k] / cumu_group_num[i][k] for k in range(self.group_num)]\n",
      "/Users/wty6162/Desktop/fa-alg/src/eval_metric_cb.py:92: RuntimeWarning: invalid value encountered in double_scalars\n",
      "  group_action_parity[k] = np.sum([abs(avg_action_num[j]/(i + 1) - group_action_num[k][j]/sum(group_action_num[k]))\n"
     ]
    },
    {
     "name": "stdout",
     "output_type": "stream",
     "text": [
      "['vw', 'src/datasets/adult/adult_2.vw.gz', '-b', '24', '--progress', '1', '--cbify', '2', '--learning_rate', '1', '--cb_type', 'mtr', '--epsilon', '0']\n"
     ]
    },
    {
     "name": "stderr",
     "output_type": "stream",
     "text": [
      "/Users/wty6162/Desktop/fa-alg/src/eval_metric_cb.py:46: RuntimeWarning: invalid value encountered in double_scalars\n",
      "  avg_loss = [cumu_group_loss[i][k] / cumu_group_num[i][k] for k in range(self.group_num)]\n",
      "/Users/wty6162/Desktop/fa-alg/src/eval_metric_cb.py:92: RuntimeWarning: invalid value encountered in double_scalars\n",
      "  group_action_parity[k] = np.sum([abs(avg_action_num[j]/(i + 1) - group_action_num[k][j]/sum(group_action_num[k]))\n"
     ]
    },
    {
     "name": "stdout",
     "output_type": "stream",
     "text": [
      "['vw', 'src/datasets/adult/adult_2.vw.gz', '-b', '24', '--progress', '1', '--cbify', '2', '--learning_rate', '1', '--cb_type', 'mtr', '--epsilon', '0.02']\n"
     ]
    },
    {
     "name": "stderr",
     "output_type": "stream",
     "text": [
      "/Users/wty6162/Desktop/fa-alg/src/eval_metric_cb.py:46: RuntimeWarning: invalid value encountered in double_scalars\n",
      "  avg_loss = [cumu_group_loss[i][k] / cumu_group_num[i][k] for k in range(self.group_num)]\n",
      "/Users/wty6162/Desktop/fa-alg/src/eval_metric_cb.py:92: RuntimeWarning: invalid value encountered in double_scalars\n",
      "  group_action_parity[k] = np.sum([abs(avg_action_num[j]/(i + 1) - group_action_num[k][j]/sum(group_action_num[k]))\n"
     ]
    },
    {
     "name": "stdout",
     "output_type": "stream",
     "text": [
      "['vw', 'src/datasets/adult/adult_2.vw.gz', '-b', '24', '--progress', '1', '--cbify', '2', '--learning_rate', '1', '--cb_type', 'mtr', '--epsilon', '0.05']\n"
     ]
    },
    {
     "name": "stderr",
     "output_type": "stream",
     "text": [
      "/Users/wty6162/Desktop/fa-alg/src/eval_metric_cb.py:46: RuntimeWarning: invalid value encountered in double_scalars\n",
      "  avg_loss = [cumu_group_loss[i][k] / cumu_group_num[i][k] for k in range(self.group_num)]\n",
      "/Users/wty6162/Desktop/fa-alg/src/eval_metric_cb.py:92: RuntimeWarning: invalid value encountered in double_scalars\n",
      "  group_action_parity[k] = np.sum([abs(avg_action_num[j]/(i + 1) - group_action_num[k][j]/sum(group_action_num[k]))\n"
     ]
    },
    {
     "name": "stdout",
     "output_type": "stream",
     "text": [
      "['vw', 'src/datasets/adult/adult_2.vw.gz', '-b', '24', '--progress', '1', '--cbify', '2', '--learning_rate', '1', '--cb_type', 'mtr', '--epsilon', '0.1']\n"
     ]
    },
    {
     "name": "stderr",
     "output_type": "stream",
     "text": [
      "/Users/wty6162/Desktop/fa-alg/src/eval_metric_cb.py:46: RuntimeWarning: invalid value encountered in double_scalars\n",
      "  avg_loss = [cumu_group_loss[i][k] / cumu_group_num[i][k] for k in range(self.group_num)]\n",
      "/Users/wty6162/Desktop/fa-alg/src/eval_metric_cb.py:92: RuntimeWarning: invalid value encountered in double_scalars\n",
      "  group_action_parity[k] = np.sum([abs(avg_action_num[j]/(i + 1) - group_action_num[k][j]/sum(group_action_num[k]))\n"
     ]
    },
    {
     "name": "stdout",
     "output_type": "stream",
     "text": [
      "['vw', 'src/datasets/adult/adult_2.vw.gz', '-b', '24', '--progress', '1', '--cbify', '2', '--learning_rate', '10', '--cb_type', 'dr', '--epsilon', '0']\n"
     ]
    },
    {
     "name": "stderr",
     "output_type": "stream",
     "text": [
      "/Users/wty6162/Desktop/fa-alg/src/eval_metric_cb.py:46: RuntimeWarning: invalid value encountered in double_scalars\n",
      "  avg_loss = [cumu_group_loss[i][k] / cumu_group_num[i][k] for k in range(self.group_num)]\n",
      "/Users/wty6162/Desktop/fa-alg/src/eval_metric_cb.py:92: RuntimeWarning: invalid value encountered in double_scalars\n",
      "  group_action_parity[k] = np.sum([abs(avg_action_num[j]/(i + 1) - group_action_num[k][j]/sum(group_action_num[k]))\n"
     ]
    },
    {
     "name": "stdout",
     "output_type": "stream",
     "text": [
      "['vw', 'src/datasets/adult/adult_2.vw.gz', '-b', '24', '--progress', '1', '--cbify', '2', '--learning_rate', '10', '--cb_type', 'dr', '--epsilon', '0.02']\n"
     ]
    },
    {
     "name": "stderr",
     "output_type": "stream",
     "text": [
      "/Users/wty6162/Desktop/fa-alg/src/eval_metric_cb.py:46: RuntimeWarning: invalid value encountered in double_scalars\n",
      "  avg_loss = [cumu_group_loss[i][k] / cumu_group_num[i][k] for k in range(self.group_num)]\n",
      "/Users/wty6162/Desktop/fa-alg/src/eval_metric_cb.py:92: RuntimeWarning: invalid value encountered in double_scalars\n",
      "  group_action_parity[k] = np.sum([abs(avg_action_num[j]/(i + 1) - group_action_num[k][j]/sum(group_action_num[k]))\n"
     ]
    },
    {
     "name": "stdout",
     "output_type": "stream",
     "text": [
      "['vw', 'src/datasets/adult/adult_2.vw.gz', '-b', '24', '--progress', '1', '--cbify', '2', '--learning_rate', '10', '--cb_type', 'dr', '--epsilon', '0.05']\n"
     ]
    },
    {
     "name": "stderr",
     "output_type": "stream",
     "text": [
      "/Users/wty6162/Desktop/fa-alg/src/eval_metric_cb.py:46: RuntimeWarning: invalid value encountered in double_scalars\n",
      "  avg_loss = [cumu_group_loss[i][k] / cumu_group_num[i][k] for k in range(self.group_num)]\n",
      "/Users/wty6162/Desktop/fa-alg/src/eval_metric_cb.py:92: RuntimeWarning: invalid value encountered in double_scalars\n",
      "  group_action_parity[k] = np.sum([abs(avg_action_num[j]/(i + 1) - group_action_num[k][j]/sum(group_action_num[k]))\n"
     ]
    },
    {
     "name": "stdout",
     "output_type": "stream",
     "text": [
      "['vw', 'src/datasets/adult/adult_2.vw.gz', '-b', '24', '--progress', '1', '--cbify', '2', '--learning_rate', '10', '--cb_type', 'dr', '--epsilon', '0.1']\n"
     ]
    },
    {
     "name": "stderr",
     "output_type": "stream",
     "text": [
      "/Users/wty6162/Desktop/fa-alg/src/eval_metric_cb.py:46: RuntimeWarning: invalid value encountered in double_scalars\n",
      "  avg_loss = [cumu_group_loss[i][k] / cumu_group_num[i][k] for k in range(self.group_num)]\n",
      "/Users/wty6162/Desktop/fa-alg/src/eval_metric_cb.py:92: RuntimeWarning: invalid value encountered in double_scalars\n",
      "  group_action_parity[k] = np.sum([abs(avg_action_num[j]/(i + 1) - group_action_num[k][j]/sum(group_action_num[k]))\n"
     ]
    },
    {
     "name": "stdout",
     "output_type": "stream",
     "text": [
      "['vw', 'src/datasets/adult/adult_2.vw.gz', '-b', '24', '--progress', '1', '--cbify', '2', '--learning_rate', '10', '--cb_type', 'ips', '--epsilon', '0']\n"
     ]
    },
    {
     "name": "stderr",
     "output_type": "stream",
     "text": [
      "/Users/wty6162/Desktop/fa-alg/src/eval_metric_cb.py:46: RuntimeWarning: invalid value encountered in double_scalars\n",
      "  avg_loss = [cumu_group_loss[i][k] / cumu_group_num[i][k] for k in range(self.group_num)]\n",
      "/Users/wty6162/Desktop/fa-alg/src/eval_metric_cb.py:92: RuntimeWarning: invalid value encountered in double_scalars\n",
      "  group_action_parity[k] = np.sum([abs(avg_action_num[j]/(i + 1) - group_action_num[k][j]/sum(group_action_num[k]))\n"
     ]
    },
    {
     "name": "stdout",
     "output_type": "stream",
     "text": [
      "['vw', 'src/datasets/adult/adult_2.vw.gz', '-b', '24', '--progress', '1', '--cbify', '2', '--learning_rate', '10', '--cb_type', 'ips', '--epsilon', '0.02']\n"
     ]
    },
    {
     "name": "stderr",
     "output_type": "stream",
     "text": [
      "/Users/wty6162/Desktop/fa-alg/src/eval_metric_cb.py:46: RuntimeWarning: invalid value encountered in double_scalars\n",
      "  avg_loss = [cumu_group_loss[i][k] / cumu_group_num[i][k] for k in range(self.group_num)]\n",
      "/Users/wty6162/Desktop/fa-alg/src/eval_metric_cb.py:92: RuntimeWarning: invalid value encountered in double_scalars\n",
      "  group_action_parity[k] = np.sum([abs(avg_action_num[j]/(i + 1) - group_action_num[k][j]/sum(group_action_num[k]))\n"
     ]
    },
    {
     "name": "stdout",
     "output_type": "stream",
     "text": [
      "['vw', 'src/datasets/adult/adult_2.vw.gz', '-b', '24', '--progress', '1', '--cbify', '2', '--learning_rate', '10', '--cb_type', 'ips', '--epsilon', '0.05']\n"
     ]
    },
    {
     "name": "stderr",
     "output_type": "stream",
     "text": [
      "/Users/wty6162/Desktop/fa-alg/src/eval_metric_cb.py:46: RuntimeWarning: invalid value encountered in double_scalars\n",
      "  avg_loss = [cumu_group_loss[i][k] / cumu_group_num[i][k] for k in range(self.group_num)]\n",
      "/Users/wty6162/Desktop/fa-alg/src/eval_metric_cb.py:92: RuntimeWarning: invalid value encountered in double_scalars\n",
      "  group_action_parity[k] = np.sum([abs(avg_action_num[j]/(i + 1) - group_action_num[k][j]/sum(group_action_num[k]))\n"
     ]
    },
    {
     "name": "stdout",
     "output_type": "stream",
     "text": [
      "['vw', 'src/datasets/adult/adult_2.vw.gz', '-b', '24', '--progress', '1', '--cbify', '2', '--learning_rate', '10', '--cb_type', 'ips', '--epsilon', '0.1']\n"
     ]
    },
    {
     "name": "stderr",
     "output_type": "stream",
     "text": [
      "/Users/wty6162/Desktop/fa-alg/src/eval_metric_cb.py:46: RuntimeWarning: invalid value encountered in double_scalars\n",
      "  avg_loss = [cumu_group_loss[i][k] / cumu_group_num[i][k] for k in range(self.group_num)]\n",
      "/Users/wty6162/Desktop/fa-alg/src/eval_metric_cb.py:92: RuntimeWarning: invalid value encountered in double_scalars\n",
      "  group_action_parity[k] = np.sum([abs(avg_action_num[j]/(i + 1) - group_action_num[k][j]/sum(group_action_num[k]))\n"
     ]
    },
    {
     "name": "stdout",
     "output_type": "stream",
     "text": [
      "['vw', 'src/datasets/adult/adult_2.vw.gz', '-b', '24', '--progress', '1', '--cbify', '2', '--learning_rate', '10', '--cb_type', 'mtr', '--epsilon', '0']\n"
     ]
    },
    {
     "name": "stderr",
     "output_type": "stream",
     "text": [
      "/Users/wty6162/Desktop/fa-alg/src/eval_metric_cb.py:46: RuntimeWarning: invalid value encountered in double_scalars\n",
      "  avg_loss = [cumu_group_loss[i][k] / cumu_group_num[i][k] for k in range(self.group_num)]\n",
      "/Users/wty6162/Desktop/fa-alg/src/eval_metric_cb.py:92: RuntimeWarning: invalid value encountered in double_scalars\n",
      "  group_action_parity[k] = np.sum([abs(avg_action_num[j]/(i + 1) - group_action_num[k][j]/sum(group_action_num[k]))\n"
     ]
    },
    {
     "name": "stdout",
     "output_type": "stream",
     "text": [
      "['vw', 'src/datasets/adult/adult_2.vw.gz', '-b', '24', '--progress', '1', '--cbify', '2', '--learning_rate', '10', '--cb_type', 'mtr', '--epsilon', '0.02']\n"
     ]
    },
    {
     "name": "stderr",
     "output_type": "stream",
     "text": [
      "/Users/wty6162/Desktop/fa-alg/src/eval_metric_cb.py:46: RuntimeWarning: invalid value encountered in double_scalars\n",
      "  avg_loss = [cumu_group_loss[i][k] / cumu_group_num[i][k] for k in range(self.group_num)]\n",
      "/Users/wty6162/Desktop/fa-alg/src/eval_metric_cb.py:92: RuntimeWarning: invalid value encountered in double_scalars\n",
      "  group_action_parity[k] = np.sum([abs(avg_action_num[j]/(i + 1) - group_action_num[k][j]/sum(group_action_num[k]))\n"
     ]
    },
    {
     "name": "stdout",
     "output_type": "stream",
     "text": [
      "['vw', 'src/datasets/adult/adult_2.vw.gz', '-b', '24', '--progress', '1', '--cbify', '2', '--learning_rate', '10', '--cb_type', 'mtr', '--epsilon', '0.05']\n"
     ]
    },
    {
     "name": "stderr",
     "output_type": "stream",
     "text": [
      "/Users/wty6162/Desktop/fa-alg/src/eval_metric_cb.py:46: RuntimeWarning: invalid value encountered in double_scalars\n",
      "  avg_loss = [cumu_group_loss[i][k] / cumu_group_num[i][k] for k in range(self.group_num)]\n",
      "/Users/wty6162/Desktop/fa-alg/src/eval_metric_cb.py:92: RuntimeWarning: invalid value encountered in double_scalars\n",
      "  group_action_parity[k] = np.sum([abs(avg_action_num[j]/(i + 1) - group_action_num[k][j]/sum(group_action_num[k]))\n"
     ]
    },
    {
     "name": "stdout",
     "output_type": "stream",
     "text": [
      "['vw', 'src/datasets/adult/adult_2.vw.gz', '-b', '24', '--progress', '1', '--cbify', '2', '--learning_rate', '10', '--cb_type', 'mtr', '--epsilon', '0.1']\n"
     ]
    },
    {
     "name": "stderr",
     "output_type": "stream",
     "text": [
      "/Users/wty6162/Desktop/fa-alg/src/eval_metric_cb.py:46: RuntimeWarning: invalid value encountered in double_scalars\n",
      "  avg_loss = [cumu_group_loss[i][k] / cumu_group_num[i][k] for k in range(self.group_num)]\n",
      "/Users/wty6162/Desktop/fa-alg/src/eval_metric_cb.py:92: RuntimeWarning: invalid value encountered in double_scalars\n",
      "  group_action_parity[k] = np.sum([abs(avg_action_num[j]/(i + 1) - group_action_num[k][j]/sum(group_action_num[k]))\n"
     ]
    }
   ],
   "source": [
    "from src.eval_job import *\n",
    "run_jobs()"
   ]
  }
 ],
 "metadata": {
  "kernelspec": {
   "display_name": "Python 3.9.7 ('base')",
   "language": "python",
   "name": "python3"
  },
  "language_info": {
   "codemirror_mode": {
    "name": "ipython",
    "version": 3
   },
   "file_extension": ".py",
   "mimetype": "text/x-python",
   "name": "python",
   "nbconvert_exporter": "python",
   "pygments_lexer": "ipython3",
   "version": "3.9.7"
  },
  "orig_nbformat": 4,
  "vscode": {
   "interpreter": {
    "hash": "40d3a090f54c6569ab1632332b64b2c03c39dcf918b08424e98f38b5ae0af88f"
   }
  }
 },
 "nbformat": 4,
 "nbformat_minor": 2
}
